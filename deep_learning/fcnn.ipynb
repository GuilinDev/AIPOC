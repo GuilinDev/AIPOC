{
 "cells": [
  {
   "cell_type": "code",
   "execution_count": null,
   "id": "initial_id",
   "metadata": {
    "collapsed": true
   },
   "outputs": [],
   "source": [
    "# Vectors, matrices, and multidimensional arrays\n",
    "# Network basics\n",
    "# Activation function\n",
    "# Fully connected network realized from scratch"
   ]
  },
  {
   "metadata": {
    "ExecuteTime": {
     "end_time": "2024-08-19T01:34:45.838896Z",
     "start_time": "2024-08-19T01:34:45.814932Z"
    }
   },
   "cell_type": "code",
   "source": [
    "import numpy as np\n",
    "# Create row vector\n",
    "row_vector = np.array([1, 2, 3, 4, 5])\n",
    "print(\"Row vector: \", row_vector)\n",
    "\n",
    "# Create column vector\n",
    "column_vector = np.array([[1], [2], [3], [4], [5]])\n",
    "print(\"Column vector: \", column_vector)\n",
    "\n",
    "# Create matrix\n",
    "matrix = np.array([[1, 2, 3], [4, 5, 6], [7, 8, 9]])\n",
    "print(\"Matrix: \", matrix)"
   ],
   "id": "983fc78ff17c4ba2",
   "outputs": [
    {
     "name": "stdout",
     "output_type": "stream",
     "text": [
      "Row vector:  [1 2 3 4 5]\n",
      "Column vector:  [[1]\n",
      " [2]\n",
      " [3]\n",
      " [4]\n",
      " [5]]\n",
      "Matrix:  [[1 2 3]\n",
      " [4 5 6]\n",
      " [7 8 9]]\n"
     ]
    }
   ],
   "execution_count": 18
  },
  {
   "metadata": {},
   "cell_type": "code",
   "source": [
    "import numpy as np\n",
    "# transpose matrix\n",
    "matrix = np.array([[1, 2, 3], [4, 5, 6], [7, 8, 9]])\n",
    "print(\"Matrix: \")\n",
    "print(matrix)\n",
    "print(\"Transpose matrix: \")\n",
    "print(matrix.T)\n",
    "print(np.transpose(matrix))\n",
    "\n",
    "# inverse matrix\n",
    "matrix = np.array([[1, 2], [3, 4]])\n",
    "print(\"Matrix: \")\n",
    "print(matrix)\n",
    "print(\"Inverse Matrix: \")\n",
    "print(np.linalg.inv(matrix))"
   ],
   "id": "d352a083f6a35ecb",
   "outputs": [],
   "execution_count": null
  },
  {
   "metadata": {},
   "cell_type": "code",
   "source": [
    "import torch\n",
    "import torch.nn as nn\n",
    "import torch.optim as optim\n",
    "import torchvision\n",
    "import torchvision.transforms as transforms\n",
    "\n",
    "# 1. Define the neural network model\n",
    "class FCNN(nn.Module):\n",
    "    def __init__(self):\n",
    "        super(FCNN, self).__init__()\n",
    "        self.fc1 = nn.Linear(28 * 28, 512)  # First fully connected layer (input: 784, output: 512)\n",
    "        self.fc2 = nn.Linear(512, 256)      # Second fully connected layer (input: 512, output: 256)\n",
    "        self.fc3 = nn.Linear(256, 128)      # Third fully connected layer (input: 256, output: 128)\n",
    "        self.fc4 = nn.Linear(128, 10)       # Output layer (input: 128, output: 10 classes)\n",
    "\n",
    "    def forward(self, x):\n",
    "        x = x.view(-1, 28 * 28)             # Flatten the input tensor\n",
    "        x = torch.relu(self.fc1(x))         # Apply ReLU activation function\n",
    "        x = torch.relu(self.fc2(x))\n",
    "        x = torch.relu(self.fc3(x))\n",
    "        x = self.fc4(x)                     # No activation function at the output layer\n",
    "        return x\n",
    "\n",
    "# 2. Load and preprocess the MNIST dataset\n",
    "transform = transforms.Compose([\n",
    "    transforms.ToTensor(),                 # Convert images to tensor\n",
    "    transforms.Normalize((0.5,), (0.5,))   # Normalize the images\n",
    "])\n",
    "\n",
    "train_dataset = torchvision.datasets.MNIST(root='./data', train=True, download=True, transform=transform)\n",
    "test_dataset = torchvision.datasets.MNIST(root='./data', train=False, download=True, transform=transform)\n",
    "\n",
    "train_loader = torch.utils.data.DataLoader(train_dataset, batch_size=64, shuffle=True)\n",
    "test_loader = torch.utils.data.DataLoader(test_dataset, batch_size=1000, shuffle=False)\n",
    "\n",
    "# 3. Initialize the network, loss function, and optimizer\n",
    "model = FCNN()\n",
    "criterion = nn.CrossEntropyLoss()           # Cross-entropy loss for multi-class classification\n",
    "optimizer = optim.Adam(model.parameters(), lr=0.001)  # Adam optimizer\n",
    "\n",
    "# 4. Train the network\n",
    "def train(model, train_loader, criterion, optimizer, epochs=5):\n",
    "    model.train()\n",
    "    for epoch in range(epochs):\n",
    "        running_loss = 0.0\n",
    "        for images, labels in train_loader:\n",
    "            optimizer.zero_grad()           # Zero the parameter gradients\n",
    "            outputs = model(images)         # Forward pass\n",
    "            loss = criterion(outputs, labels)  # Compute loss\n",
    "            loss.backward()                 # Backward pass (compute gradients)\n",
    "            optimizer.step()                # Update weights\n",
    "            \n",
    "            running_loss += loss.item()\n",
    "        \n",
    "        print(f'Epoch [{epoch + 1}/{epochs}], Loss: {running_loss / len(train_loader):.4f}')\n",
    "\n",
    "# 5. Evaluate the network\n",
    "def evaluate(model, test_loader):\n",
    "    model.eval()\n",
    "    correct = 0\n",
    "    total = 0\n",
    "    with torch.no_grad():\n",
    "        for images, labels in test_loader:\n",
    "            outputs = model(images)\n",
    "            _, predicted = torch.max(outputs.data, 1)\n",
    "            total += labels.size(0)\n",
    "            correct += (predicted == labels).sum().item()\n",
    "\n",
    "    print(f'Accuracy of the network on the test images: {100 * correct / total:.2f}%')\n",
    "\n",
    "# Run the training and evaluation\n",
    "train(model, train_loader, criterion, optimizer)\n",
    "evaluate(model, test_loader)\n"
   ],
   "id": "e7445ee599d4969a",
   "outputs": [],
   "execution_count": null
  },
  {
   "metadata": {},
   "cell_type": "code",
   "outputs": [],
   "execution_count": null,
   "source": "",
   "id": "f974565fcaade2f5"
  }
 ],
 "metadata": {
  "kernelspec": {
   "display_name": "Python 3",
   "language": "python",
   "name": "python3"
  },
  "language_info": {
   "codemirror_mode": {
    "name": "ipython",
    "version": 2
   },
   "file_extension": ".py",
   "mimetype": "text/x-python",
   "name": "python",
   "nbconvert_exporter": "python",
   "pygments_lexer": "ipython2",
   "version": "2.7.6"
  }
 },
 "nbformat": 4,
 "nbformat_minor": 5
}
